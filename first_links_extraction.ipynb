{
 "cells": [
  {
   "cell_type": "code",
   "execution_count": 20,
   "metadata": {},
   "outputs": [
    {
     "output_type": "stream",
     "name": "stdout",
     "text": [
      "Requirement already satisfied: bs4 in c:\\users\\aditya kumar\\appdata\\local\\programs\\python\\python37-32\\lib\\site-packages (0.0.1)\n",
      "Requirement already satisfied: beautifulsoup4 in c:\\users\\aditya kumar\\appdata\\local\\programs\\python\\python37-32\\lib\\site-packages (from bs4) (4.9.3)\n",
      "Requirement already satisfied: soupsieve>1.2 in c:\\users\\aditya kumar\\appdata\\local\\programs\\python\\python37-32\\lib\\site-packages (from beautifulsoup4->bs4) (2.2.1)\n",
      "WARNING: You are using pip version 21.0.1; however, version 21.1 is available.\n",
      "You should consider upgrading via the 'c:\\users\\aditya kumar\\appdata\\local\\programs\\python\\python37-32\\python.exe -m pip install --upgrade pip' command.\n",
      "Requirement already satisfied: requests in c:\\users\\aditya kumar\\appdata\\local\\programs\\python\\python37-32\\lib\\site-packages (2.25.1)WARNING: You are using pip version 21.0.1; however, version 21.1 is available.\n",
      "You should consider upgrading via the 'c:\\users\\aditya kumar\\appdata\\local\\programs\\python\\python37-32\\python.exe -m pip install --upgrade pip' command.\n",
      "\n",
      "Requirement already satisfied: urllib3<1.27,>=1.21.1 in c:\\users\\aditya kumar\\appdata\\local\\programs\\python\\python37-32\\lib\\site-packages (from requests) (1.26.4)\n",
      "Requirement already satisfied: idna<3,>=2.5 in c:\\users\\aditya kumar\\appdata\\local\\programs\\python\\python37-32\\lib\\site-packages (from requests) (2.10)\n",
      "Requirement already satisfied: chardet<5,>=3.0.2 in c:\\users\\aditya kumar\\appdata\\local\\programs\\python\\python37-32\\lib\\site-packages (from requests) (4.0.0)\n",
      "Requirement already satisfied: certifi>=2017.4.17 in c:\\users\\aditya kumar\\appdata\\local\\programs\\python\\python37-32\\lib\\site-packages (from requests) (2020.12.5)\n"
     ]
    }
   ],
   "source": [
    "!pip install bs4\n",
    "!pip install requests\n",
    "from bs4 import BeautifulSoup\n",
    "import requests\n",
    "from math import ceil\n",
    "import time\n",
    "import csv"
   ]
  },
  {
   "cell_type": "code",
   "execution_count": 21,
   "metadata": {},
   "outputs": [],
   "source": [
    "def scrape_main(link):\n",
    "    \n",
    "    \n",
    "    response = requests.get(link)\n",
    "    return(BeautifulSoup(response.text, 'lxml' ))"
   ]
  },
  {
   "cell_type": "code",
   "execution_count": 22,
   "metadata": {},
   "outputs": [],
   "source": [
    "# array of internshala links\n",
    "\n",
    "url= 'https://internshala.com/internships/'\n",
    "\n",
    "# generalied locations based on links and its position\n",
    "\n",
    "row_heading = ['source', 'job_link']"
   ]
  },
  {
   "cell_type": "code",
   "execution_count": 27,
   "metadata": {},
   "outputs": [],
   "source": [
    "# timestamp as file name by using time library and with prefix as internshala\n",
    "file_name = 'C:/Users/aditya kumar/Desktop/PROJECTS/scraping/Scraping 3/first_links.csv'\n",
    "\n",
    "\n",
    "# opening file in write mode and connecting csv writer to file\n",
    "file = open(file_name,'w')\n",
    "writer = csv.writer(file)\n",
    "\n",
    "\n",
    "# initially writing header of csv file\n",
    "writer.writerow(row_heading)\n",
    "\n",
    "\n",
    "# looping over array of links with index value\n",
    "    \n",
    "    #passing main page to scape\n",
    "soup = scrape_main(url)\n",
    "\n",
    "    \n",
    "pages = ceil(int(soup.find('div',{'class':'heading heading_4_6'}).text.split()[0])/40)\n",
    "for page in range(pages):\n",
    "    \n",
    "    # now we need to scrape over pages under main url\n",
    "    base_url = url + \"/page-\"+str(page)\n",
    "    soup1= scrape_main(base_url)\n",
    "    \n",
    "    # firstly finding each single job in each page to find job link\n",
    "    for single_job in soup.find_all(\"div\", { \"class\": \"individual_internship\"}):\n",
    "        \n",
    "        if(single_job.find('div',{'class':'heading_4_5 profile'}) == None):\n",
    "            continue\n",
    "            \n",
    "        job_link = \"https://internshala.com\"\n",
    "        job_link += single_job.find('div',{'class':'heading_4_5 profile'}).a.get('href')\n",
    "    \n",
    "        source = 'internshala'\n",
    "        # writing all details to csv\n",
    "        writer.writerow([source, job_link])\n",
    "        \n",
    "        \n",
    "        \n",
    "\n",
    "    "
   ]
  },
  {
   "cell_type": "code",
   "execution_count": 28,
   "metadata": {},
   "outputs": [],
   "source": [
    "# closing csv file\n",
    "file.close()"
   ]
  },
  {
   "cell_type": "code",
   "execution_count": 31,
   "metadata": {},
   "outputs": [],
   "source": [
    "import pandas as pd"
   ]
  },
  {
   "cell_type": "code",
   "execution_count": 32,
   "metadata": {},
   "outputs": [],
   "source": [
    "df = pd.read_csv(file_name)"
   ]
  },
  {
   "cell_type": "code",
   "execution_count": 33,
   "metadata": {},
   "outputs": [
    {
     "output_type": "execute_result",
     "data": {
      "text/plain": [
       "           source                                           job_link\n",
       "8795  internshala  https://internshala.com/internship/detail/busi...\n",
       "8796  internshala  https://internshala.com/internship/detail/busi...\n",
       "8797  internshala  https://internshala.com/internship/detail/lms-...\n",
       "8798  internshala  https://internshala.com/internship/detail/busi...\n",
       "8799  internshala  https://internshala.com/internship/detail/busi..."
      ],
      "text/html": "<div>\n<style scoped>\n    .dataframe tbody tr th:only-of-type {\n        vertical-align: middle;\n    }\n\n    .dataframe tbody tr th {\n        vertical-align: top;\n    }\n\n    .dataframe thead th {\n        text-align: right;\n    }\n</style>\n<table border=\"1\" class=\"dataframe\">\n  <thead>\n    <tr style=\"text-align: right;\">\n      <th></th>\n      <th>source</th>\n      <th>job_link</th>\n    </tr>\n  </thead>\n  <tbody>\n    <tr>\n      <th>8795</th>\n      <td>internshala</td>\n      <td>https://internshala.com/internship/detail/busi...</td>\n    </tr>\n    <tr>\n      <th>8796</th>\n      <td>internshala</td>\n      <td>https://internshala.com/internship/detail/busi...</td>\n    </tr>\n    <tr>\n      <th>8797</th>\n      <td>internshala</td>\n      <td>https://internshala.com/internship/detail/lms-...</td>\n    </tr>\n    <tr>\n      <th>8798</th>\n      <td>internshala</td>\n      <td>https://internshala.com/internship/detail/busi...</td>\n    </tr>\n    <tr>\n      <th>8799</th>\n      <td>internshala</td>\n      <td>https://internshala.com/internship/detail/busi...</td>\n    </tr>\n  </tbody>\n</table>\n</div>"
     },
     "metadata": {},
     "execution_count": 33
    }
   ],
   "source": [
    "df.tail(5)"
   ]
  },
  {
   "cell_type": "code",
   "execution_count": 34,
   "metadata": {},
   "outputs": [
    {
     "output_type": "execute_result",
     "data": {
      "text/plain": [
       "(8800, 2)"
      ]
     },
     "metadata": {},
     "execution_count": 34
    }
   ],
   "source": [
    "# size of jobs collected\n",
    "df.shape"
   ]
  },
  {
   "cell_type": "code",
   "execution_count": 35,
   "metadata": {},
   "outputs": [
    {
     "output_type": "execute_result",
     "data": {
      "text/plain": [
       "         source                                           job_link\n",
       "0   internshala  https://internshala.com/internship/details/cov...\n",
       "1   internshala  https://internshala.com/internship/detail/data...\n",
       "2   internshala  https://internshala.com/internship/detail/soft...\n",
       "3   internshala  https://internshala.com/internship/detail/busi...\n",
       "4   internshala  https://internshala.com/internship/detail/mark...\n",
       "..          ...                                                ...\n",
       "95  internshala  https://internshala.com/internship/detail/grap...\n",
       "96  internshala  https://internshala.com/internship/detail/proj...\n",
       "97  internshala  https://internshala.com/internship/detail/huma...\n",
       "98  internshala  https://internshala.com/internship/detail/busi...\n",
       "99  internshala  https://internshala.com/internship/detail/busi...\n",
       "\n",
       "[100 rows x 2 columns]"
      ],
      "text/html": "<div>\n<style scoped>\n    .dataframe tbody tr th:only-of-type {\n        vertical-align: middle;\n    }\n\n    .dataframe tbody tr th {\n        vertical-align: top;\n    }\n\n    .dataframe thead th {\n        text-align: right;\n    }\n</style>\n<table border=\"1\" class=\"dataframe\">\n  <thead>\n    <tr style=\"text-align: right;\">\n      <th></th>\n      <th>source</th>\n      <th>job_link</th>\n    </tr>\n  </thead>\n  <tbody>\n    <tr>\n      <th>0</th>\n      <td>internshala</td>\n      <td>https://internshala.com/internship/details/cov...</td>\n    </tr>\n    <tr>\n      <th>1</th>\n      <td>internshala</td>\n      <td>https://internshala.com/internship/detail/data...</td>\n    </tr>\n    <tr>\n      <th>2</th>\n      <td>internshala</td>\n      <td>https://internshala.com/internship/detail/soft...</td>\n    </tr>\n    <tr>\n      <th>3</th>\n      <td>internshala</td>\n      <td>https://internshala.com/internship/detail/busi...</td>\n    </tr>\n    <tr>\n      <th>4</th>\n      <td>internshala</td>\n      <td>https://internshala.com/internship/detail/mark...</td>\n    </tr>\n    <tr>\n      <th>...</th>\n      <td>...</td>\n      <td>...</td>\n    </tr>\n    <tr>\n      <th>95</th>\n      <td>internshala</td>\n      <td>https://internshala.com/internship/detail/grap...</td>\n    </tr>\n    <tr>\n      <th>96</th>\n      <td>internshala</td>\n      <td>https://internshala.com/internship/detail/proj...</td>\n    </tr>\n    <tr>\n      <th>97</th>\n      <td>internshala</td>\n      <td>https://internshala.com/internship/detail/huma...</td>\n    </tr>\n    <tr>\n      <th>98</th>\n      <td>internshala</td>\n      <td>https://internshala.com/internship/detail/busi...</td>\n    </tr>\n    <tr>\n      <th>99</th>\n      <td>internshala</td>\n      <td>https://internshala.com/internship/detail/busi...</td>\n    </tr>\n  </tbody>\n</table>\n<p>100 rows × 2 columns</p>\n</div>"
     },
     "metadata": {},
     "execution_count": 35
    }
   ],
   "source": [
    "#no null values in dataframe\n",
    "df.isnull().sum()\n",
    "df=df[0:100]\n",
    "df.shape\n",
    "df"
   ]
  },
  {
   "cell_type": "markdown",
   "metadata": {},
   "source": [
    "#### To save it into normal csv file just run below cell"
   ]
  },
  {
   "cell_type": "code",
   "execution_count": 37,
   "metadata": {},
   "outputs": [],
   "source": [
    "df.to_csv('first_links.csv')"
   ]
  },
  {
   "cell_type": "markdown",
   "metadata": {},
   "source": [
    "#### To save file - pipe '|' as delimiter : just run the below cell"
   ]
  }
 ],
 "metadata": {
  "kernelspec": {
   "name": "python378jvsc74a57bd04dc2593f557a246ab4f3b8de594ca710e97ea68450a004a2e4feb043ce7ea460",
   "display_name": "Python 3.7.8 32-bit"
  },
  "language_info": {
   "codemirror_mode": {
    "name": "ipython",
    "version": 3
   },
   "file_extension": ".py",
   "mimetype": "text/x-python",
   "name": "python",
   "nbconvert_exporter": "python",
   "pygments_lexer": "ipython3",
   "version": "3.7.8"
  },
  "metadata": {
   "interpreter": {
    "hash": "4dc2593f557a246ab4f3b8de594ca710e97ea68450a004a2e4feb043ce7ea460"
   }
  }
 },
 "nbformat": 4,
 "nbformat_minor": 4
}